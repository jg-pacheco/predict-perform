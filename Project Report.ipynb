{
 "cells": [
  {
   "cell_type": "markdown",
   "id": "e68783b7",
   "metadata": {},
   "source": [
    "# Deep Learning in the NBA"
   ]
  },
  {
   "cell_type": "markdown",
   "id": "215211ff",
   "metadata": {},
   "source": [
    "## Data Preprocessing"
   ]
  },
  {
   "cell_type": "markdown",
   "id": "0b345b7c",
   "metadata": {},
   "source": [
    "We downloaded our data from Basketball Reference. We downlaoded the advanced stats data as csv files so that we could then process it in the format that we wanted and requested the html data on league standings."
   ]
  },
  {
   "cell_type": "markdown",
   "id": "4b254946",
   "metadata": {},
   "source": [
    "In our code below we grouped all of the data in our csv files to make one large pandas dataframe that includes the season, team name, rank, games played, and the advanced team stats."
   ]
  },
  {
   "cell_type": "code",
   "execution_count": 1,
   "id": "944cc3d0",
   "metadata": {},
   "outputs": [],
   "source": [
    "# Insert gather years code"
   ]
  },
  {
   "cell_type": "markdown",
   "id": "704666c3",
   "metadata": {},
   "source": [
    "## Model Implementation"
   ]
  },
  {
   "cell_type": "markdown",
   "id": "ddb69453",
   "metadata": {},
   "source": [
    "## Methods"
   ]
  },
  {
   "cell_type": "markdown",
   "id": "f388e08c",
   "metadata": {},
   "source": [
    "## Experiments and Results"
   ]
  },
  {
   "cell_type": "markdown",
   "id": "319d4ac3",
   "metadata": {},
   "source": [
    "## Conclusion and Final Work"
   ]
  }
 ],
 "metadata": {
  "kernelspec": {
   "display_name": "Python 3 (ipykernel)",
   "language": "python",
   "name": "python3"
  },
  "language_info": {
   "codemirror_mode": {
    "name": "ipython",
    "version": 3
   },
   "file_extension": ".py",
   "mimetype": "text/x-python",
   "name": "python",
   "nbconvert_exporter": "python",
   "pygments_lexer": "ipython3",
   "version": "3.10.11"
  }
 },
 "nbformat": 4,
 "nbformat_minor": 5
}
