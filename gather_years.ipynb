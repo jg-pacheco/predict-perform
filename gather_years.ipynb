{
 "cells": [
  {
   "cell_type": "code",
   "execution_count": 15,
   "id": "71bdd3ae",
   "metadata": {},
   "outputs": [],
   "source": [
    "import numpy as np\n",
    "import os\n",
    "import pandas as pd"
   ]
  },
  {
   "cell_type": "code",
   "execution_count": 31,
   "id": "acef0c36",
   "metadata": {},
   "outputs": [],
   "source": [
    "def list_dir(path):\n",
    "    files = os.listdir(path)\n",
    "    return [string for string in files if not string.startswith('.')]\n",
    "\n",
    "\n",
    "def year2szn(year):\n",
    "    return f\"{str(year-1)}-{str(year)[-2:]}\"\n",
    "\n",
    "\n",
    "def combine_csvs(dfs: list) -> pd.DataFrame:\n",
    "    ''' Group all csvs by team'''\n",
    "    return\n",
    "\n",
    "\n",
    "def gather_years(year: int, previous_years: int) -> tuple[pd.DataFrame, pd.Series]:\n",
    "    ''' Create a function that uses the current year as its validation set and previous years\n",
    "    as training data'''\n",
    "    year_string = year2szn(year)  # 2023 -> \"2022-23\"\n",
    "    csvs_val = listdir(f'./data/{year_string}')\n",
    "    y = gather_years(csvs_val)\n",
    "    for i in range(1, previous_years):\n",
    "        cur_year = year-i\n",
    "        \n",
    "    X = ...\n",
    "    return X, y"
   ]
  },
  {
   "cell_type": "code",
   "execution_count": 37,
   "id": "13aa0008",
   "metadata": {},
   "outputs": [
    {
     "data": {
      "text/plain": [
       "['szn_totals_against.csv',\n",
       " 'advanced.csv',\n",
       " 'per_game.csv',\n",
       " 'szn_totals.csv',\n",
       " 'standings.csv',\n",
       " 'per_game_against.csv']"
      ]
     },
     "execution_count": 37,
     "metadata": {},
     "output_type": "execute_result"
    }
   ],
   "source": [
    "list_dir('./data/1950-51/')"
   ]
  },
  {
   "cell_type": "code",
   "execution_count": 26,
   "id": "1e6626bf",
   "metadata": {},
   "outputs": [
    {
     "data": {
      "text/plain": [
       "False"
      ]
     },
     "execution_count": 26,
     "metadata": {},
     "output_type": "execute_result"
    }
   ],
   "source": [
    "os.(str.startswith('.',','))"
   ]
  },
  {
   "cell_type": "code",
   "execution_count": null,
   "id": "5e6d75d5",
   "metadata": {},
   "outputs": [],
   "source": []
  }
 ],
 "metadata": {
  "kernelspec": {
   "display_name": "Python 3 (ipykernel)",
   "language": "python",
   "name": "python3"
  },
  "language_info": {
   "codemirror_mode": {
    "name": "ipython",
    "version": 3
   },
   "file_extension": ".py",
   "mimetype": "text/x-python",
   "name": "python",
   "nbconvert_exporter": "python",
   "pygments_lexer": "ipython3",
   "version": "3.9.12"
  }
 },
 "nbformat": 4,
 "nbformat_minor": 5
}
