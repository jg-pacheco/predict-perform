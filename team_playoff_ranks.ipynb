{
 "cells": [
  {
   "cell_type": "code",
   "execution_count": 234,
   "id": "bf1f653a-80fa-46a2-9b9b-d61f342b91ad",
   "metadata": {},
   "outputs": [],
   "source": [
    "import pandas as pd"
   ]
  },
  {
   "cell_type": "code",
   "execution_count": 235,
   "id": "b32f72c6-0069-4937-ad18-bd2196d72de6",
   "metadata": {},
   "outputs": [],
   "source": [
    "dfs = pd.read_html('https://www.basketball-reference.com/playoffs/NBA_2023.html')\n",
    "df = dfs[20]  # the third table in the page and remove the last row"
   ]
  },
  {
   "cell_type": "code",
   "execution_count": 236,
   "id": "3914fe2c-711a-4d96-a2ab-09a98501bdf7",
   "metadata": {},
   "outputs": [],
   "source": [
    "df.columns = df.columns.droplevel()"
   ]
  },
  {
   "cell_type": "code",
   "execution_count": 237,
   "id": "1ea11244-fcb7-447e-9206-d3ab8c5c641b",
   "metadata": {
    "tags": []
   },
   "outputs": [],
   "source": [
    "df = df.loc[:,['Team','W','L']]"
   ]
  },
  {
   "cell_type": "code",
   "execution_count": 238,
   "id": "d5089a68-a68c-4ef9-acf5-0bf162d9a57e",
   "metadata": {
    "tags": []
   },
   "outputs": [],
   "source": [
    "df[\"Round Finished\"] = df.apply(lambda row: 5 if row[\"W\"] == 16 else\n",
    "                                 4 if row[\"W\"] >= 12 else\n",
    "                                 3 if 8 <= row[\"W\"] < 12 else\n",
    "                                 2 if 4 <= row[\"W\"] < 8 else\n",
    "                                 1 if row[\"W\"] < 4 and row[\"L\"]>0 else\n",
    "                                 -1, axis=1)\n",
    "df = df.drop(['W','L'],axis=1)"
   ]
  },
  {
   "cell_type": "code",
   "execution_count": 239,
   "id": "38b18e9c-a129-4f14-9052-d14c32474485",
   "metadata": {
    "tags": []
   },
   "outputs": [],
   "source": [
    "new = pd.read_html('https://www.basketball-reference.com/leagues/NBA_2023_standings.html')"
   ]
  },
  {
   "cell_type": "code",
   "execution_count": 240,
   "id": "91f4353b-7bdb-4bd1-8146-c2a9d6ba6542",
   "metadata": {
    "tags": []
   },
   "outputs": [],
   "source": [
    "east = new[0]\n",
    "west = new[1]"
   ]
  },
  {
   "cell_type": "code",
   "execution_count": 241,
   "id": "b7fff2ab-a385-429c-a26a-b23ecb070f8e",
   "metadata": {
    "tags": []
   },
   "outputs": [],
   "source": [
    "west = west[\"Western Conference\"].apply(lambda x: x.split(\"*\")[0].strip()).str.split(\"(\", expand=True)[0].str.strip()\n",
    "east = east[\"Eastern Conference\"].apply(lambda x: x.split(\"*\")[0].strip()).str.split(\"(\", expand=True)[0].str.strip()"
   ]
  },
  {
   "cell_type": "code",
   "execution_count": 242,
   "id": "29deb373-1707-4c37-a8b1-f8b7b4d8caad",
   "metadata": {
    "tags": []
   },
   "outputs": [],
   "source": [
    "teams = list(pd.concat([east,west]).reset_index(drop=True))"
   ]
  },
  {
   "cell_type": "code",
   "execution_count": 243,
   "id": "89e53b7e-9ca6-4c56-8ef7-af23d4357d38",
   "metadata": {
    "tags": []
   },
   "outputs": [],
   "source": [
    "for value in teams:\n",
    "    if value not in df['Team'].values:\n",
    "        df.loc[len(df)] = { 'Team': value, 'Round Finished': -1}"
   ]
  },
  {
   "cell_type": "code",
   "execution_count": 244,
   "id": "3f640f63-a72a-48ed-a70e-b4df20c0a5bc",
   "metadata": {
    "tags": []
   },
   "outputs": [
    {
     "data": {
      "text/html": [
       "<div>\n",
       "<style scoped>\n",
       "    .dataframe tbody tr th:only-of-type {\n",
       "        vertical-align: middle;\n",
       "    }\n",
       "\n",
       "    .dataframe tbody tr th {\n",
       "        vertical-align: top;\n",
       "    }\n",
       "\n",
       "    .dataframe thead th {\n",
       "        text-align: right;\n",
       "    }\n",
       "</style>\n",
       "<table border=\"1\" class=\"dataframe\">\n",
       "  <thead>\n",
       "    <tr style=\"text-align: right;\">\n",
       "      <th></th>\n",
       "      <th>Team</th>\n",
       "      <th>Round Finished</th>\n",
       "    </tr>\n",
       "  </thead>\n",
       "  <tbody>\n",
       "    <tr>\n",
       "      <th>0</th>\n",
       "      <td>Denver Nuggets</td>\n",
       "      <td>5</td>\n",
       "    </tr>\n",
       "    <tr>\n",
       "      <th>1</th>\n",
       "      <td>Miami Heat</td>\n",
       "      <td>4</td>\n",
       "    </tr>\n",
       "    <tr>\n",
       "      <th>2</th>\n",
       "      <td>Los Angeles Lakers</td>\n",
       "      <td>3</td>\n",
       "    </tr>\n",
       "    <tr>\n",
       "      <th>3</th>\n",
       "      <td>Boston Celtics</td>\n",
       "      <td>3</td>\n",
       "    </tr>\n",
       "    <tr>\n",
       "      <th>4</th>\n",
       "      <td>New York Knicks</td>\n",
       "      <td>2</td>\n",
       "    </tr>\n",
       "    <tr>\n",
       "      <th>5</th>\n",
       "      <td>Golden State Warriors</td>\n",
       "      <td>2</td>\n",
       "    </tr>\n",
       "    <tr>\n",
       "      <th>6</th>\n",
       "      <td>Philadelphia 76ers</td>\n",
       "      <td>2</td>\n",
       "    </tr>\n",
       "    <tr>\n",
       "      <th>7</th>\n",
       "      <td>Phoenix Suns</td>\n",
       "      <td>2</td>\n",
       "    </tr>\n",
       "    <tr>\n",
       "      <th>8</th>\n",
       "      <td>Los Angeles Clippers</td>\n",
       "      <td>1</td>\n",
       "    </tr>\n",
       "    <tr>\n",
       "      <th>9</th>\n",
       "      <td>Minnesota Timberwolves</td>\n",
       "      <td>1</td>\n",
       "    </tr>\n",
       "    <tr>\n",
       "      <th>10</th>\n",
       "      <td>Memphis Grizzlies</td>\n",
       "      <td>1</td>\n",
       "    </tr>\n",
       "    <tr>\n",
       "      <th>11</th>\n",
       "      <td>Brooklyn Nets</td>\n",
       "      <td>1</td>\n",
       "    </tr>\n",
       "    <tr>\n",
       "      <th>12</th>\n",
       "      <td>Cleveland Cavaliers</td>\n",
       "      <td>1</td>\n",
       "    </tr>\n",
       "    <tr>\n",
       "      <th>13</th>\n",
       "      <td>Milwaukee Bucks</td>\n",
       "      <td>1</td>\n",
       "    </tr>\n",
       "    <tr>\n",
       "      <th>14</th>\n",
       "      <td>Sacramento Kings</td>\n",
       "      <td>1</td>\n",
       "    </tr>\n",
       "    <tr>\n",
       "      <th>15</th>\n",
       "      <td>Atlanta Hawks</td>\n",
       "      <td>1</td>\n",
       "    </tr>\n",
       "    <tr>\n",
       "      <th>16</th>\n",
       "      <td>Orlando Magic</td>\n",
       "      <td>-1</td>\n",
       "    </tr>\n",
       "    <tr>\n",
       "      <th>17</th>\n",
       "      <td>Houston Rockets</td>\n",
       "      <td>-1</td>\n",
       "    </tr>\n",
       "    <tr>\n",
       "      <th>18</th>\n",
       "      <td>Portland Trail Blazers</td>\n",
       "      <td>-1</td>\n",
       "    </tr>\n",
       "    <tr>\n",
       "      <th>19</th>\n",
       "      <td>Utah Jazz</td>\n",
       "      <td>-1</td>\n",
       "    </tr>\n",
       "    <tr>\n",
       "      <th>20</th>\n",
       "      <td>Dallas Mavericks</td>\n",
       "      <td>-1</td>\n",
       "    </tr>\n",
       "    <tr>\n",
       "      <th>21</th>\n",
       "      <td>Detroit Pistons</td>\n",
       "      <td>-1</td>\n",
       "    </tr>\n",
       "    <tr>\n",
       "      <th>22</th>\n",
       "      <td>Charlotte Hornets</td>\n",
       "      <td>-1</td>\n",
       "    </tr>\n",
       "    <tr>\n",
       "      <th>23</th>\n",
       "      <td>Indiana Pacers</td>\n",
       "      <td>-1</td>\n",
       "    </tr>\n",
       "    <tr>\n",
       "      <th>24</th>\n",
       "      <td>Washington Wizards</td>\n",
       "      <td>-1</td>\n",
       "    </tr>\n",
       "    <tr>\n",
       "      <th>25</th>\n",
       "      <td>League Average</td>\n",
       "      <td>-1</td>\n",
       "    </tr>\n",
       "    <tr>\n",
       "      <th>26</th>\n",
       "      <td>Toronto Raptors</td>\n",
       "      <td>-1</td>\n",
       "    </tr>\n",
       "    <tr>\n",
       "      <th>27</th>\n",
       "      <td>Oklahoma City Thunder</td>\n",
       "      <td>-1</td>\n",
       "    </tr>\n",
       "    <tr>\n",
       "      <th>28</th>\n",
       "      <td>New Orleans Pelicans</td>\n",
       "      <td>-1</td>\n",
       "    </tr>\n",
       "    <tr>\n",
       "      <th>29</th>\n",
       "      <td>Chicago Bulls</td>\n",
       "      <td>-1</td>\n",
       "    </tr>\n",
       "    <tr>\n",
       "      <th>30</th>\n",
       "      <td>San Antonio Spurs</td>\n",
       "      <td>-1</td>\n",
       "    </tr>\n",
       "  </tbody>\n",
       "</table>\n",
       "</div>"
      ],
      "text/plain": [
       "                      Team  Round Finished\n",
       "0           Denver Nuggets               5\n",
       "1               Miami Heat               4\n",
       "2       Los Angeles Lakers               3\n",
       "3           Boston Celtics               3\n",
       "4          New York Knicks               2\n",
       "5    Golden State Warriors               2\n",
       "6       Philadelphia 76ers               2\n",
       "7             Phoenix Suns               2\n",
       "8     Los Angeles Clippers               1\n",
       "9   Minnesota Timberwolves               1\n",
       "10       Memphis Grizzlies               1\n",
       "11           Brooklyn Nets               1\n",
       "12     Cleveland Cavaliers               1\n",
       "13         Milwaukee Bucks               1\n",
       "14        Sacramento Kings               1\n",
       "15           Atlanta Hawks               1\n",
       "16           Orlando Magic              -1\n",
       "17         Houston Rockets              -1\n",
       "18  Portland Trail Blazers              -1\n",
       "19               Utah Jazz              -1\n",
       "20        Dallas Mavericks              -1\n",
       "21         Detroit Pistons              -1\n",
       "22       Charlotte Hornets              -1\n",
       "23          Indiana Pacers              -1\n",
       "24      Washington Wizards              -1\n",
       "25          League Average              -1\n",
       "26         Toronto Raptors              -1\n",
       "27   Oklahoma City Thunder              -1\n",
       "28    New Orleans Pelicans              -1\n",
       "29           Chicago Bulls              -1\n",
       "30       San Antonio Spurs              -1"
      ]
     },
     "execution_count": 244,
     "metadata": {},
     "output_type": "execute_result"
    }
   ],
   "source": [
    "df = df.sort_values('Round Finished',ascending = False).reset_index(drop = True)\n",
    "df"
   ]
  },
  {
   "cell_type": "code",
   "execution_count": null,
   "id": "e8416de6-0964-42a2-9b16-b1d8e5cc237e",
   "metadata": {},
   "outputs": [],
   "source": []
  },
  {
   "cell_type": "code",
   "execution_count": null,
   "id": "3641828c-b01a-44a9-8f56-81a4769ad872",
   "metadata": {},
   "outputs": [],
   "source": []
  }
 ],
 "metadata": {
  "kernelspec": {
   "display_name": "Python 3 (ipykernel)",
   "language": "python",
   "name": "python3"
  },
  "language_info": {
   "codemirror_mode": {
    "name": "ipython",
    "version": 3
   },
   "file_extension": ".py",
   "mimetype": "text/x-python",
   "name": "python",
   "nbconvert_exporter": "python",
   "pygments_lexer": "ipython3",
   "version": "3.9.12"
  }
 },
 "nbformat": 4,
 "nbformat_minor": 5
}
