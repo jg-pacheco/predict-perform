{
 "cells": [
  {
   "cell_type": "code",
   "execution_count": 1,
   "id": "5291369d",
   "metadata": {},
   "outputs": [
    {
     "data": {
      "text/html": [
       "<pre style=\"white-space:pre;overflow-x:auto;line-height:normal;font-family:Menlo,'DejaVu Sans Mono',consolas,'Courier New',monospace\"><span style=\"color: #808000; text-decoration-color: #808000; font-weight: bold\">/var/folders/dc/vmrx_nc16tz65xmfmz0x56kh0000gn/T/ipykernel_6220/3271662608.py:</span><span style=\"color: #808000; text-decoration-color: #808000; font-weight: bold\">3</span><span style=\"color: #808000; text-decoration-color: #808000; font-weight: bold\"> DeprecationWarning</span><span style=\"color: #808000; text-decoration-color: #808000\">: The `airflow.operators.bash_operator.BashOperator` class is deprecated. Please use `</span><span style=\"color: #808000; text-decoration-color: #808000\">'airflow.operators.bash.BashOperator'</span><span style=\"color: #808000; text-decoration-color: #808000\">`.</span>\n",
       "</pre>\n"
      ],
      "text/plain": [
       "\u001b[1;33m/var/folders/dc/vmrx_nc16tz65xmfmz0x56kh0000gn/T/ipykernel_6220/\u001b[0m\u001b[1;33m3271662608.py\u001b[0m\u001b[1;33m:\u001b[0m\u001b[1;33m3\u001b[0m\u001b[1;33m DeprecationWarning\u001b[0m\u001b[33m: The `airflow.operators.bash_operator.BashOperator` class is deprecated. Please use `\u001b[0m\u001b[33m'airflow.operators.bash.BashOperator'\u001b[0m\u001b[33m`.\u001b[0m\n"
      ]
     },
     "metadata": {},
     "output_type": "display_data"
    },
    {
     "data": {
      "text/html": [
       "<pre style=\"white-space:pre;overflow-x:auto;line-height:normal;font-family:Menlo,'DejaVu Sans Mono',consolas,'Courier New',monospace\"><span style=\"color: #808000; text-decoration-color: #808000; font-weight: bold\">/var/folders/dc/vmrx_nc16tz65xmfmz0x56kh0000gn/T/ipykernel_6220/3271662608.py:</span><span style=\"color: #808000; text-decoration-color: #808000; font-weight: bold\">6</span><span style=\"color: #808000; text-decoration-color: #808000; font-weight: bold\"> RemovedInAirflow3Warning</span><span style=\"color: #808000; text-decoration-color: #808000\">: Param `schedule_interval` is deprecated and will be removed in a future release. Please use `schedule` instead.</span>\n",
       "</pre>\n"
      ],
      "text/plain": [
       "\u001b[1;33m/var/folders/dc/vmrx_nc16tz65xmfmz0x56kh0000gn/T/ipykernel_6220/\u001b[0m\u001b[1;33m3271662608.py\u001b[0m\u001b[1;33m:\u001b[0m\u001b[1;33m6\u001b[0m\u001b[1;33m RemovedInAirflow3Warning\u001b[0m\u001b[33m: Param `schedule_interval` is deprecated and will be removed in a future release. Please use `schedule` instead.\u001b[0m\n"
      ]
     },
     "metadata": {},
     "output_type": "display_data"
    }
   ],
   "source": [
    "import airflow\n",
    "from airflow import DAG\n",
    "from airflow.operators.bash_operator import BashOperator\n",
    "import datetime\n",
    "\n",
    "dag = DAG(\n",
    "    dag_id=\"get_data\",\n",
    "    start_date=datetime.datetime.now()+datetime.timedelta(hours=1),\n",
    "    end_date=datetime.datetime.now() + datetime.timedelta(days=1),\n",
    "    schedule_interval=\"@hourly\"\n",
    ")\n",
    "task = BashOperator(\n",
    "    task_id=\"get_monthly\",\n",
    "    bash_command=\"python get_monthly_data.py\",\n",
    "    dag=dag,\n",
    ")\n",
    "\n",
    "! airflow run get_data"
   ]
  },
  {
   "cell_type": "code",
   "execution_count": 2,
   "id": "b9b0a3de",
   "metadata": {
    "scrolled": true
   },
   "outputs": [],
   "source": []
  },
  {
   "cell_type": "code",
   "execution_count": 3,
   "id": "a3ab5dfd",
   "metadata": {},
   "outputs": [
    {
     "ename": "DuplicateTaskIdFound",
     "evalue": "Task id 'get_monthly' has already been added to the DAG",
     "output_type": "error",
     "traceback": [
      "\u001b[0;31m---------------------------------------------------------------------------\u001b[0m",
      "\u001b[0;31mDuplicateTaskIdFound\u001b[0m                      Traceback (most recent call last)",
      "Cell \u001b[0;32mIn[3], line 1\u001b[0m\n\u001b[0;32m----> 1\u001b[0m \u001b[43mdag\u001b[49m\u001b[38;5;241;43m.\u001b[39;49m\u001b[43madd_task\u001b[49m\u001b[43m(\u001b[49m\u001b[43mtask\u001b[49m\u001b[43m)\u001b[49m\n",
      "File \u001b[0;32m~/opt/anaconda3/lib/python3.9/site-packages/airflow/models/dag.py:2388\u001b[0m, in \u001b[0;36mDAG.add_task\u001b[0;34m(self, task)\u001b[0m\n\u001b[1;32m   2383\u001b[0m         task_group\u001b[38;5;241m.\u001b[39madd(task)\n\u001b[1;32m   2385\u001b[0m \u001b[38;5;28;01mif\u001b[39;00m (\n\u001b[1;32m   2386\u001b[0m     task_id \u001b[38;5;129;01min\u001b[39;00m \u001b[38;5;28mself\u001b[39m\u001b[38;5;241m.\u001b[39mtask_dict \u001b[38;5;129;01mand\u001b[39;00m \u001b[38;5;28mself\u001b[39m\u001b[38;5;241m.\u001b[39mtask_dict[task_id] \u001b[38;5;129;01mis\u001b[39;00m \u001b[38;5;129;01mnot\u001b[39;00m task\n\u001b[1;32m   2387\u001b[0m ) \u001b[38;5;129;01mor\u001b[39;00m task_id \u001b[38;5;129;01min\u001b[39;00m \u001b[38;5;28mself\u001b[39m\u001b[38;5;241m.\u001b[39m_task_group\u001b[38;5;241m.\u001b[39mused_group_ids:\n\u001b[0;32m-> 2388\u001b[0m     \u001b[38;5;28;01mraise\u001b[39;00m DuplicateTaskIdFound(\u001b[38;5;124mf\u001b[39m\u001b[38;5;124m\"\u001b[39m\u001b[38;5;124mTask id \u001b[39m\u001b[38;5;124m'\u001b[39m\u001b[38;5;132;01m{\u001b[39;00mtask_id\u001b[38;5;132;01m}\u001b[39;00m\u001b[38;5;124m'\u001b[39m\u001b[38;5;124m has already been added to the DAG\u001b[39m\u001b[38;5;124m\"\u001b[39m)\n\u001b[1;32m   2389\u001b[0m \u001b[38;5;28;01melse\u001b[39;00m:\n\u001b[1;32m   2390\u001b[0m     \u001b[38;5;28mself\u001b[39m\u001b[38;5;241m.\u001b[39mtask_dict[task_id] \u001b[38;5;241m=\u001b[39m task\n",
      "\u001b[0;31mDuplicateTaskIdFound\u001b[0m: Task id 'get_monthly' has already been added to the DAG"
     ]
    }
   ],
   "source": [
    "dag.add_task(task)"
   ]
  },
  {
   "cell_type": "code",
   "execution_count": 5,
   "id": "605a0ffb",
   "metadata": {},
   "outputs": [
    {
     "name": "stdout",
     "output_type": "stream",
     "text": [
      "\u001b[91mUsage:\u001b[0m \u001b[37mairflow\u001b[0m [\u001b[36m-h\u001b[0m] \u001b[36mGROUP_OR_COMMAND ...\u001b[0m\r\n",
      "\r\n",
      "\u001b[91mPositional Arguments:\u001b[0m\r\n",
      "  \u001b[36mGROUP_OR_COMMAND\u001b[0m\r\n",
      "    \r\n",
      "\u001b[36m    Groups:\u001b[0m\r\n",
      "      \u001b[36mcelery\u001b[0m         \u001b[39mCelery components\u001b[0m\r\n",
      "      \u001b[36mconfig\u001b[0m         \u001b[39mView configuration\u001b[0m\r\n",
      "      \u001b[36mconnections\u001b[0m    \u001b[39mManage connections\u001b[0m\r\n",
      "      \u001b[36mdags\u001b[0m           \u001b[39mManage DAGs\u001b[0m\r\n",
      "      \u001b[36mdb\u001b[0m             \u001b[39mDatabase operations\u001b[0m\r\n",
      "      \u001b[36mjobs\u001b[0m           \u001b[39mManage jobs\u001b[0m\r\n",
      "      \u001b[36mkubernetes\u001b[0m     \u001b[39mTools to help run the KubernetesExecutor\u001b[0m\r\n",
      "      \u001b[36mpools\u001b[0m          \u001b[39mManage pools\u001b[0m\r\n",
      "      \u001b[36mproviders\u001b[0m      \u001b[39mDisplay providers\u001b[0m\r\n",
      "      \u001b[36mroles\u001b[0m          \u001b[39mManage roles\u001b[0m\r\n",
      "      \u001b[36mtasks\u001b[0m          \u001b[39mManage tasks\u001b[0m\r\n",
      "      \u001b[36musers\u001b[0m          \u001b[39mManage users\u001b[0m\r\n",
      "      \u001b[36mvariables\u001b[0m      \u001b[39mManage variables\u001b[0m\r\n",
      "    \r\n",
      "\u001b[36m    Commands:\u001b[0m\r\n",
      "      \u001b[36mcheat-sheet\u001b[0m    \u001b[39mDisplay cheat sheet\u001b[0m\r\n",
      "      \u001b[36mdag-processor\u001b[0m  \u001b[39mStart a standalone Dag Processor instance\u001b[0m\r\n",
      "      \u001b[36minfo\u001b[0m           \u001b[39mShow information about current Airflow and environment\u001b[0m\r\n",
      "      \u001b[36mkerberos\u001b[0m       \u001b[39mStart a kerberos ticket renewer\u001b[0m\r\n",
      "      \u001b[36mplugins\u001b[0m        \u001b[39mDump information about loaded plugins\u001b[0m\r\n",
      "      \u001b[36mrotate-fernet-key\u001b[0m\r\n",
      "                     \u001b[39mRotate encrypted connection credentials and variables\u001b[0m\r\n",
      "      \u001b[36mscheduler\u001b[0m      \u001b[39mStart a scheduler instance\u001b[0m\r\n",
      "      \u001b[36mstandalone\u001b[0m     \u001b[39mRun an all-in-one copy of Airflow\u001b[0m\r\n",
      "      \u001b[36msync-perm\u001b[0m      \u001b[39mUpdate permissions for existing roles and optionally DAGs\u001b[0m\r\n",
      "      \u001b[36mtriggerer\u001b[0m      \u001b[39mStart a triggerer instance\u001b[0m\r\n",
      "      \u001b[36mversion\u001b[0m        \u001b[39mShow the version\u001b[0m\r\n",
      "      \u001b[36mwebserver\u001b[0m      \u001b[39mStart a Airflow webserver instance\u001b[0m\r\n",
      "\r\n",
      "\u001b[91mOptional Arguments:\u001b[0m\r\n",
      "  \u001b[36m-h\u001b[0m, \u001b[36m--help\u001b[0m         \u001b[39mshow this help message and exit\u001b[0m\r\n",
      "\r\n",
      "airflow command error: argument GROUP_OR_COMMAND: `airflow run` command, has been removed, please use `airflow tasks run`, see help above.\r\n"
     ]
    }
   ],
   "source": []
  },
  {
   "cell_type": "code",
   "execution_count": null,
   "id": "86a723c8",
   "metadata": {},
   "outputs": [],
   "source": []
  }
 ],
 "metadata": {
  "kernelspec": {
   "display_name": "Python 3 (ipykernel)",
   "language": "python",
   "name": "python3"
  },
  "language_info": {
   "codemirror_mode": {
    "name": "ipython",
    "version": 3
   },
   "file_extension": ".py",
   "mimetype": "text/x-python",
   "name": "python",
   "nbconvert_exporter": "python",
   "pygments_lexer": "ipython3",
   "version": "3.9.12"
  }
 },
 "nbformat": 4,
 "nbformat_minor": 5
}
